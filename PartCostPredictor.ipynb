{
  "nbformat": 4,
  "nbformat_minor": 0,
  "metadata": {
    "colab": {
      "provenance": [],
      "authorship_tag": "ABX9TyNWqqSi0HbQfFkvik1aLkge",
      "include_colab_link": true
    },
    "kernelspec": {
      "name": "python3",
      "display_name": "Python 3"
    },
    "language_info": {
      "name": "python"
    }
  },
  "cells": [
    {
      "cell_type": "markdown",
      "metadata": {
        "id": "view-in-github",
        "colab_type": "text"
      },
      "source": [
        "<a href=\"https://colab.research.google.com/github/jobizzz/Vehicle-part-cost-predictor/blob/main/PartCostPredictor.ipynb\" target=\"_parent\"><img src=\"https://colab.research.google.com/assets/colab-badge.svg\" alt=\"Open In Colab\"/></a>"
      ]
    },
    {
      "cell_type": "code",
      "execution_count": 140,
      "metadata": {
        "id": "RbeNoVbZyVZ2"
      },
      "outputs": [],
      "source": [
        "import pandas as pd\n",
        "\n",
        "# Read the Excel file\n",
        "data = pd.read_excel('/content/sample_data/FinancePS.xlsx', sheet_name='Data')\n"
      ]
    },
    {
      "cell_type": "code",
      "source": [
        "#print data in a table format\n",
        "\n",
        "print(data.to_string())\n"
      ],
      "metadata": {
        "colab": {
          "base_uri": "https://localhost:8080/"
        },
        "id": "SOqJVMkIPKvX",
        "outputId": "4b3ba264-f27f-48a7-f27a-780d4b538711"
      },
      "execution_count": 141,
      "outputs": [
        {
          "output_type": "stream",
          "name": "stdout",
          "text": [
            "    Programme  Total Mass  Painted Body Colour  Painted Gloss Black  Grained plastic  Job 1 Date Country of production  Vehicle Volume   Number of parts within construction  Total Cost  Total Cost_1\n",
            "0   New car 1       0.840               0.0000                0.170             0.00        2026                    UK            30000                                    2       20.15           NaN\n",
            "1   New Car 2       1.600               0.0000                0.170             0.00        2027                    UK            80000                                    2       26.70           NaN\n",
            "2   New Car 3       2.100               0.1350                0.115             0.00        2027                    UK            35000                                    4       38.35           NaN\n",
            "3        L663       1.640               0.2800                0.000             0.00        2017                   SVK            70000                                    2         NaN         23.46\n",
            "4        L664       1.640               0.0000                0.000             0.28        2017                   SVK            70000                                    2         NaN         10.76\n",
            "5        L460       1.546               0.0000                0.250             0.00        2021                    UK            70000                                    2       19.10           NaN\n",
            "6        X540       1.350               0.1365                0.059             0.00        2016                   SVK            40000                                    3         NaN         21.03\n",
            "7        X761       1.260               0.2100                0.050             0.00        2020                    UK            40000                                    3       32.21           NaN\n",
            "8        L560       1.300               0.2700                0.060             0.00        2016                    UK            50000                                    3       22.81           NaN\n",
            "9   Predict 1       1.700               0.1000                0.100             0.00        2028                    UK            40000                                    3         NaN           NaN\n",
            "10  Predict 2       1.500               0.1900                0.000             0.00        2028                    UK            60000                                    2         NaN           NaN\n"
          ]
        }
      ]
    },
    {
      "cell_type": "code",
      "source": [
        "data.info()"
      ],
      "metadata": {
        "colab": {
          "base_uri": "https://localhost:8080/"
        },
        "id": "wKaTaafLMdUF",
        "outputId": "2460c48b-f6c2-43e4-ced0-cd3aa2c543d3"
      },
      "execution_count": 142,
      "outputs": [
        {
          "output_type": "stream",
          "name": "stdout",
          "text": [
            "<class 'pandas.core.frame.DataFrame'>\n",
            "RangeIndex: 11 entries, 0 to 10\n",
            "Data columns (total 11 columns):\n",
            " #   Column                               Non-Null Count  Dtype  \n",
            "---  ------                               --------------  -----  \n",
            " 0   Programme                            11 non-null     object \n",
            " 1   Total Mass                           11 non-null     float64\n",
            " 2   Painted Body Colour                  11 non-null     float64\n",
            " 3   Painted Gloss Black                  11 non-null     float64\n",
            " 4   Grained plastic                      11 non-null     float64\n",
            " 5   Job 1 Date                           11 non-null     int64  \n",
            " 6   Country of production                11 non-null     object \n",
            " 7   Vehicle Volume                       11 non-null     int64  \n",
            " 8   Number of parts within construction  11 non-null     int64  \n",
            " 9   Total Cost                           6 non-null      float64\n",
            " 10  Total Cost_1                         3 non-null      float64\n",
            "dtypes: float64(6), int64(3), object(2)\n",
            "memory usage: 1.1+ KB\n"
          ]
        }
      ]
    },
    {
      "cell_type": "code",
      "source": [
        "# drop programme column from data_train\n",
        "\n",
        "data.drop('Programme', axis=1, inplace=True)\n"
      ],
      "metadata": {
        "id": "tdIA03564Bcv"
      },
      "execution_count": 143,
      "outputs": []
    },
    {
      "cell_type": "markdown",
      "source": [],
      "metadata": {
        "id": "CSysZqTW45bn"
      }
    },
    {
      "cell_type": "code",
      "source": [
        "\n",
        "# Split the data into two dataframes\n",
        "data_train = data.iloc[:9]\n",
        "actual_test = data.iloc[9:]\n",
        "\n",
        "# Print the  rows of each dataframe\n",
        "print(data_train.to_string())\n",
        "print(actual_test.to_string())\n"
      ],
      "metadata": {
        "colab": {
          "base_uri": "https://localhost:8080/"
        },
        "id": "CGc8ra4x4nxI",
        "outputId": "d573f329-b0ce-4eaa-c9b9-b01e5229d9d7"
      },
      "execution_count": 144,
      "outputs": [
        {
          "output_type": "stream",
          "name": "stdout",
          "text": [
            "   Total Mass  Painted Body Colour  Painted Gloss Black  Grained plastic  Job 1 Date Country of production  Vehicle Volume   Number of parts within construction  Total Cost  Total Cost_1\n",
            "0       0.840               0.0000                0.170             0.00        2026                    UK            30000                                    2       20.15           NaN\n",
            "1       1.600               0.0000                0.170             0.00        2027                    UK            80000                                    2       26.70           NaN\n",
            "2       2.100               0.1350                0.115             0.00        2027                    UK            35000                                    4       38.35           NaN\n",
            "3       1.640               0.2800                0.000             0.00        2017                   SVK            70000                                    2         NaN         23.46\n",
            "4       1.640               0.0000                0.000             0.28        2017                   SVK            70000                                    2         NaN         10.76\n",
            "5       1.546               0.0000                0.250             0.00        2021                    UK            70000                                    2       19.10           NaN\n",
            "6       1.350               0.1365                0.059             0.00        2016                   SVK            40000                                    3         NaN         21.03\n",
            "7       1.260               0.2100                0.050             0.00        2020                    UK            40000                                    3       32.21           NaN\n",
            "8       1.300               0.2700                0.060             0.00        2016                    UK            50000                                    3       22.81           NaN\n",
            "    Total Mass  Painted Body Colour  Painted Gloss Black  Grained plastic  Job 1 Date Country of production  Vehicle Volume   Number of parts within construction  Total Cost  Total Cost_1\n",
            "9          1.7                 0.10                  0.1              0.0        2028                    UK            40000                                    3         NaN           NaN\n",
            "10         1.5                 0.19                  0.0              0.0        2028                    UK            60000                                    2         NaN           NaN\n"
          ]
        }
      ]
    },
    {
      "cell_type": "code",
      "source": [
        "\n",
        "# Describe the data\n",
        "data_train.describe().T\n"
      ],
      "metadata": {
        "colab": {
          "base_uri": "https://localhost:8080/",
          "height": 331
        },
        "id": "6_rmm1wH14WS",
        "outputId": "8b31c471-dc9a-43ee-ee12-043ed6bb47d5"
      },
      "execution_count": 145,
      "outputs": [
        {
          "output_type": "execute_result",
          "data": {
            "text/plain": [
              "                                     count          mean           std  \\\n",
              "Total Mass                             9.0      1.475111      0.346670   \n",
              "Painted Body Colour                    9.0      0.114611      0.119392   \n",
              "Painted Gloss Black                    9.0      0.097111      0.085316   \n",
              "Grained plastic                        9.0      0.031111      0.093333   \n",
              "Job 1 Date                             9.0   2020.777778      4.737557   \n",
              "Vehicle Volume                         9.0  53888.888889  18671.130419   \n",
              "Number of parts within construction    9.0      2.555556      0.726483   \n",
              "Total Cost                             6.0     26.553333      7.506639   \n",
              "Total Cost_1                           3.0     18.416667      6.741263   \n",
              "\n",
              "                                          min        25%        50%  \\\n",
              "Total Mass                               0.84      1.300      1.546   \n",
              "Painted Body Colour                      0.00      0.000      0.135   \n",
              "Painted Gloss Black                      0.00      0.050      0.060   \n",
              "Grained plastic                          0.00      0.000      0.000   \n",
              "Job 1 Date                            2016.00   2017.000   2020.000   \n",
              "Vehicle Volume                       30000.00  40000.000  50000.000   \n",
              "Number of parts within construction      2.00      2.000      2.000   \n",
              "Total Cost                              19.10     20.815     24.755   \n",
              "Total Cost_1                            10.76     15.895     21.030   \n",
              "\n",
              "                                            75%       max  \n",
              "Total Mass                               1.6400      2.10  \n",
              "Painted Body Colour                      0.2100      0.28  \n",
              "Painted Gloss Black                      0.1700      0.25  \n",
              "Grained plastic                          0.0000      0.28  \n",
              "Job 1 Date                            2026.0000   2027.00  \n",
              "Vehicle Volume                       70000.0000  80000.00  \n",
              "Number of parts within construction      3.0000      4.00  \n",
              "Total Cost                              30.8325     38.35  \n",
              "Total Cost_1                            22.2450     23.46  "
            ],
            "text/html": [
              "\n",
              "  <div id=\"df-80b6585f-6fd3-4a62-88c7-340a98285539\" class=\"colab-df-container\">\n",
              "    <div>\n",
              "<style scoped>\n",
              "    .dataframe tbody tr th:only-of-type {\n",
              "        vertical-align: middle;\n",
              "    }\n",
              "\n",
              "    .dataframe tbody tr th {\n",
              "        vertical-align: top;\n",
              "    }\n",
              "\n",
              "    .dataframe thead th {\n",
              "        text-align: right;\n",
              "    }\n",
              "</style>\n",
              "<table border=\"1\" class=\"dataframe\">\n",
              "  <thead>\n",
              "    <tr style=\"text-align: right;\">\n",
              "      <th></th>\n",
              "      <th>count</th>\n",
              "      <th>mean</th>\n",
              "      <th>std</th>\n",
              "      <th>min</th>\n",
              "      <th>25%</th>\n",
              "      <th>50%</th>\n",
              "      <th>75%</th>\n",
              "      <th>max</th>\n",
              "    </tr>\n",
              "  </thead>\n",
              "  <tbody>\n",
              "    <tr>\n",
              "      <th>Total Mass</th>\n",
              "      <td>9.0</td>\n",
              "      <td>1.475111</td>\n",
              "      <td>0.346670</td>\n",
              "      <td>0.84</td>\n",
              "      <td>1.300</td>\n",
              "      <td>1.546</td>\n",
              "      <td>1.6400</td>\n",
              "      <td>2.10</td>\n",
              "    </tr>\n",
              "    <tr>\n",
              "      <th>Painted Body Colour</th>\n",
              "      <td>9.0</td>\n",
              "      <td>0.114611</td>\n",
              "      <td>0.119392</td>\n",
              "      <td>0.00</td>\n",
              "      <td>0.000</td>\n",
              "      <td>0.135</td>\n",
              "      <td>0.2100</td>\n",
              "      <td>0.28</td>\n",
              "    </tr>\n",
              "    <tr>\n",
              "      <th>Painted Gloss Black</th>\n",
              "      <td>9.0</td>\n",
              "      <td>0.097111</td>\n",
              "      <td>0.085316</td>\n",
              "      <td>0.00</td>\n",
              "      <td>0.050</td>\n",
              "      <td>0.060</td>\n",
              "      <td>0.1700</td>\n",
              "      <td>0.25</td>\n",
              "    </tr>\n",
              "    <tr>\n",
              "      <th>Grained plastic</th>\n",
              "      <td>9.0</td>\n",
              "      <td>0.031111</td>\n",
              "      <td>0.093333</td>\n",
              "      <td>0.00</td>\n",
              "      <td>0.000</td>\n",
              "      <td>0.000</td>\n",
              "      <td>0.0000</td>\n",
              "      <td>0.28</td>\n",
              "    </tr>\n",
              "    <tr>\n",
              "      <th>Job 1 Date</th>\n",
              "      <td>9.0</td>\n",
              "      <td>2020.777778</td>\n",
              "      <td>4.737557</td>\n",
              "      <td>2016.00</td>\n",
              "      <td>2017.000</td>\n",
              "      <td>2020.000</td>\n",
              "      <td>2026.0000</td>\n",
              "      <td>2027.00</td>\n",
              "    </tr>\n",
              "    <tr>\n",
              "      <th>Vehicle Volume</th>\n",
              "      <td>9.0</td>\n",
              "      <td>53888.888889</td>\n",
              "      <td>18671.130419</td>\n",
              "      <td>30000.00</td>\n",
              "      <td>40000.000</td>\n",
              "      <td>50000.000</td>\n",
              "      <td>70000.0000</td>\n",
              "      <td>80000.00</td>\n",
              "    </tr>\n",
              "    <tr>\n",
              "      <th>Number of parts within construction</th>\n",
              "      <td>9.0</td>\n",
              "      <td>2.555556</td>\n",
              "      <td>0.726483</td>\n",
              "      <td>2.00</td>\n",
              "      <td>2.000</td>\n",
              "      <td>2.000</td>\n",
              "      <td>3.0000</td>\n",
              "      <td>4.00</td>\n",
              "    </tr>\n",
              "    <tr>\n",
              "      <th>Total Cost</th>\n",
              "      <td>6.0</td>\n",
              "      <td>26.553333</td>\n",
              "      <td>7.506639</td>\n",
              "      <td>19.10</td>\n",
              "      <td>20.815</td>\n",
              "      <td>24.755</td>\n",
              "      <td>30.8325</td>\n",
              "      <td>38.35</td>\n",
              "    </tr>\n",
              "    <tr>\n",
              "      <th>Total Cost_1</th>\n",
              "      <td>3.0</td>\n",
              "      <td>18.416667</td>\n",
              "      <td>6.741263</td>\n",
              "      <td>10.76</td>\n",
              "      <td>15.895</td>\n",
              "      <td>21.030</td>\n",
              "      <td>22.2450</td>\n",
              "      <td>23.46</td>\n",
              "    </tr>\n",
              "  </tbody>\n",
              "</table>\n",
              "</div>\n",
              "    <div class=\"colab-df-buttons\">\n",
              "\n",
              "  <div class=\"colab-df-container\">\n",
              "    <button class=\"colab-df-convert\" onclick=\"convertToInteractive('df-80b6585f-6fd3-4a62-88c7-340a98285539')\"\n",
              "            title=\"Convert this dataframe to an interactive table.\"\n",
              "            style=\"display:none;\">\n",
              "\n",
              "  <svg xmlns=\"http://www.w3.org/2000/svg\" height=\"24px\" viewBox=\"0 -960 960 960\">\n",
              "    <path d=\"M120-120v-720h720v720H120Zm60-500h600v-160H180v160Zm220 220h160v-160H400v160Zm0 220h160v-160H400v160ZM180-400h160v-160H180v160Zm440 0h160v-160H620v160ZM180-180h160v-160H180v160Zm440 0h160v-160H620v160Z\"/>\n",
              "  </svg>\n",
              "    </button>\n",
              "\n",
              "  <style>\n",
              "    .colab-df-container {\n",
              "      display:flex;\n",
              "      gap: 12px;\n",
              "    }\n",
              "\n",
              "    .colab-df-convert {\n",
              "      background-color: #E8F0FE;\n",
              "      border: none;\n",
              "      border-radius: 50%;\n",
              "      cursor: pointer;\n",
              "      display: none;\n",
              "      fill: #1967D2;\n",
              "      height: 32px;\n",
              "      padding: 0 0 0 0;\n",
              "      width: 32px;\n",
              "    }\n",
              "\n",
              "    .colab-df-convert:hover {\n",
              "      background-color: #E2EBFA;\n",
              "      box-shadow: 0px 1px 2px rgba(60, 64, 67, 0.3), 0px 1px 3px 1px rgba(60, 64, 67, 0.15);\n",
              "      fill: #174EA6;\n",
              "    }\n",
              "\n",
              "    .colab-df-buttons div {\n",
              "      margin-bottom: 4px;\n",
              "    }\n",
              "\n",
              "    [theme=dark] .colab-df-convert {\n",
              "      background-color: #3B4455;\n",
              "      fill: #D2E3FC;\n",
              "    }\n",
              "\n",
              "    [theme=dark] .colab-df-convert:hover {\n",
              "      background-color: #434B5C;\n",
              "      box-shadow: 0px 1px 3px 1px rgba(0, 0, 0, 0.15);\n",
              "      filter: drop-shadow(0px 1px 2px rgba(0, 0, 0, 0.3));\n",
              "      fill: #FFFFFF;\n",
              "    }\n",
              "  </style>\n",
              "\n",
              "    <script>\n",
              "      const buttonEl =\n",
              "        document.querySelector('#df-80b6585f-6fd3-4a62-88c7-340a98285539 button.colab-df-convert');\n",
              "      buttonEl.style.display =\n",
              "        google.colab.kernel.accessAllowed ? 'block' : 'none';\n",
              "\n",
              "      async function convertToInteractive(key) {\n",
              "        const element = document.querySelector('#df-80b6585f-6fd3-4a62-88c7-340a98285539');\n",
              "        const dataTable =\n",
              "          await google.colab.kernel.invokeFunction('convertToInteractive',\n",
              "                                                    [key], {});\n",
              "        if (!dataTable) return;\n",
              "\n",
              "        const docLinkHtml = 'Like what you see? Visit the ' +\n",
              "          '<a target=\"_blank\" href=https://colab.research.google.com/notebooks/data_table.ipynb>data table notebook</a>'\n",
              "          + ' to learn more about interactive tables.';\n",
              "        element.innerHTML = '';\n",
              "        dataTable['output_type'] = 'display_data';\n",
              "        await google.colab.output.renderOutput(dataTable, element);\n",
              "        const docLink = document.createElement('div');\n",
              "        docLink.innerHTML = docLinkHtml;\n",
              "        element.appendChild(docLink);\n",
              "      }\n",
              "    </script>\n",
              "  </div>\n",
              "\n",
              "\n",
              "<div id=\"df-4ea4f137-a8b6-4d20-9039-beb5bcbd56e8\">\n",
              "  <button class=\"colab-df-quickchart\" onclick=\"quickchart('df-4ea4f137-a8b6-4d20-9039-beb5bcbd56e8')\"\n",
              "            title=\"Suggest charts\"\n",
              "            style=\"display:none;\">\n",
              "\n",
              "<svg xmlns=\"http://www.w3.org/2000/svg\" height=\"24px\"viewBox=\"0 0 24 24\"\n",
              "     width=\"24px\">\n",
              "    <g>\n",
              "        <path d=\"M19 3H5c-1.1 0-2 .9-2 2v14c0 1.1.9 2 2 2h14c1.1 0 2-.9 2-2V5c0-1.1-.9-2-2-2zM9 17H7v-7h2v7zm4 0h-2V7h2v10zm4 0h-2v-4h2v4z\"/>\n",
              "    </g>\n",
              "</svg>\n",
              "  </button>\n",
              "\n",
              "<style>\n",
              "  .colab-df-quickchart {\n",
              "      --bg-color: #E8F0FE;\n",
              "      --fill-color: #1967D2;\n",
              "      --hover-bg-color: #E2EBFA;\n",
              "      --hover-fill-color: #174EA6;\n",
              "      --disabled-fill-color: #AAA;\n",
              "      --disabled-bg-color: #DDD;\n",
              "  }\n",
              "\n",
              "  [theme=dark] .colab-df-quickchart {\n",
              "      --bg-color: #3B4455;\n",
              "      --fill-color: #D2E3FC;\n",
              "      --hover-bg-color: #434B5C;\n",
              "      --hover-fill-color: #FFFFFF;\n",
              "      --disabled-bg-color: #3B4455;\n",
              "      --disabled-fill-color: #666;\n",
              "  }\n",
              "\n",
              "  .colab-df-quickchart {\n",
              "    background-color: var(--bg-color);\n",
              "    border: none;\n",
              "    border-radius: 50%;\n",
              "    cursor: pointer;\n",
              "    display: none;\n",
              "    fill: var(--fill-color);\n",
              "    height: 32px;\n",
              "    padding: 0;\n",
              "    width: 32px;\n",
              "  }\n",
              "\n",
              "  .colab-df-quickchart:hover {\n",
              "    background-color: var(--hover-bg-color);\n",
              "    box-shadow: 0 1px 2px rgba(60, 64, 67, 0.3), 0 1px 3px 1px rgba(60, 64, 67, 0.15);\n",
              "    fill: var(--button-hover-fill-color);\n",
              "  }\n",
              "\n",
              "  .colab-df-quickchart-complete:disabled,\n",
              "  .colab-df-quickchart-complete:disabled:hover {\n",
              "    background-color: var(--disabled-bg-color);\n",
              "    fill: var(--disabled-fill-color);\n",
              "    box-shadow: none;\n",
              "  }\n",
              "\n",
              "  .colab-df-spinner {\n",
              "    border: 2px solid var(--fill-color);\n",
              "    border-color: transparent;\n",
              "    border-bottom-color: var(--fill-color);\n",
              "    animation:\n",
              "      spin 1s steps(1) infinite;\n",
              "  }\n",
              "\n",
              "  @keyframes spin {\n",
              "    0% {\n",
              "      border-color: transparent;\n",
              "      border-bottom-color: var(--fill-color);\n",
              "      border-left-color: var(--fill-color);\n",
              "    }\n",
              "    20% {\n",
              "      border-color: transparent;\n",
              "      border-left-color: var(--fill-color);\n",
              "      border-top-color: var(--fill-color);\n",
              "    }\n",
              "    30% {\n",
              "      border-color: transparent;\n",
              "      border-left-color: var(--fill-color);\n",
              "      border-top-color: var(--fill-color);\n",
              "      border-right-color: var(--fill-color);\n",
              "    }\n",
              "    40% {\n",
              "      border-color: transparent;\n",
              "      border-right-color: var(--fill-color);\n",
              "      border-top-color: var(--fill-color);\n",
              "    }\n",
              "    60% {\n",
              "      border-color: transparent;\n",
              "      border-right-color: var(--fill-color);\n",
              "    }\n",
              "    80% {\n",
              "      border-color: transparent;\n",
              "      border-right-color: var(--fill-color);\n",
              "      border-bottom-color: var(--fill-color);\n",
              "    }\n",
              "    90% {\n",
              "      border-color: transparent;\n",
              "      border-bottom-color: var(--fill-color);\n",
              "    }\n",
              "  }\n",
              "</style>\n",
              "\n",
              "  <script>\n",
              "    async function quickchart(key) {\n",
              "      const quickchartButtonEl =\n",
              "        document.querySelector('#' + key + ' button');\n",
              "      quickchartButtonEl.disabled = true;  // To prevent multiple clicks.\n",
              "      quickchartButtonEl.classList.add('colab-df-spinner');\n",
              "      try {\n",
              "        const charts = await google.colab.kernel.invokeFunction(\n",
              "            'suggestCharts', [key], {});\n",
              "      } catch (error) {\n",
              "        console.error('Error during call to suggestCharts:', error);\n",
              "      }\n",
              "      quickchartButtonEl.classList.remove('colab-df-spinner');\n",
              "      quickchartButtonEl.classList.add('colab-df-quickchart-complete');\n",
              "    }\n",
              "    (() => {\n",
              "      let quickchartButtonEl =\n",
              "        document.querySelector('#df-4ea4f137-a8b6-4d20-9039-beb5bcbd56e8 button');\n",
              "      quickchartButtonEl.style.display =\n",
              "        google.colab.kernel.accessAllowed ? 'block' : 'none';\n",
              "    })();\n",
              "  </script>\n",
              "</div>\n",
              "\n",
              "    </div>\n",
              "  </div>\n"
            ],
            "application/vnd.google.colaboratory.intrinsic+json": {
              "type": "dataframe",
              "summary": "{\n  \"name\": \"data_train\",\n  \"rows\": 9,\n  \"fields\": [\n    {\n      \"column\": \"count\",\n      \"properties\": {\n        \"dtype\": \"number\",\n        \"std\": 2.1213203435596424,\n        \"min\": 3.0,\n        \"max\": 9.0,\n        \"num_unique_values\": 3,\n        \"samples\": [\n          9.0,\n          6.0,\n          3.0\n        ],\n        \"semantic_type\": \"\",\n        \"description\": \"\"\n      }\n    },\n    {\n      \"column\": \"mean\",\n      \"properties\": {\n        \"dtype\": \"number\",\n        \"std\": 17889.11557901967,\n        \"min\": 0.031111111111111114,\n        \"max\": 53888.88888888889,\n        \"num_unique_values\": 9,\n        \"samples\": [\n          26.55333333333333,\n          0.11461111111111112,\n          53888.88888888889\n        ],\n        \"semantic_type\": \"\",\n        \"description\": \"\"\n      }\n    },\n    {\n      \"column\": \"std\",\n      \"properties\": {\n        \"dtype\": \"number\",\n        \"std\": 6222.862680005482,\n        \"min\": 0.0853162417779353,\n        \"max\": 18671.130418673398,\n        \"num_unique_values\": 9,\n        \"samples\": [\n          7.506638839498453,\n          0.11939215263622276,\n          18671.130418673398\n        ],\n        \"semantic_type\": \"\",\n        \"description\": \"\"\n      }\n    },\n    {\n      \"column\": \"min\",\n      \"properties\": {\n        \"dtype\": \"number\",\n        \"std\": 9936.928530003624,\n        \"min\": 0.0,\n        \"max\": 30000.0,\n        \"num_unique_values\": 7,\n        \"samples\": [\n          0.84,\n          0.0,\n          19.1\n        ],\n        \"semantic_type\": \"\",\n        \"description\": \"\"\n      }\n    },\n    {\n      \"column\": \"25%\",\n      \"properties\": {\n        \"dtype\": \"number\",\n        \"std\": 13264.31330133297,\n        \"min\": 0.0,\n        \"max\": 40000.0,\n        \"num_unique_values\": 8,\n        \"samples\": [\n          0.0,\n          2.0,\n          1.3\n        ],\n        \"semantic_type\": \"\",\n        \"description\": \"\"\n      }\n    },\n    {\n      \"column\": \"50%\",\n      \"properties\": {\n        \"dtype\": \"number\",\n        \"std\": 16593.798044701787,\n        \"min\": 0.0,\n        \"max\": 50000.0,\n        \"num_unique_values\": 9,\n        \"samples\": [\n          24.755,\n          0.135,\n          50000.0\n        ],\n        \"semantic_type\": \"\",\n        \"description\": \"\"\n      }\n    },\n    {\n      \"column\": \"75%\",\n      \"properties\": {\n        \"dtype\": \"number\",\n        \"std\": 23256.073903995017,\n        \"min\": 0.0,\n        \"max\": 70000.0,\n        \"num_unique_values\": 9,\n        \"samples\": [\n          30.8325,\n          0.21,\n          70000.0\n        ],\n        \"semantic_type\": \"\",\n        \"description\": \"\"\n      }\n    },\n    {\n      \"column\": \"max\",\n      \"properties\": {\n        \"dtype\": \"number\",\n        \"std\": 26587.718994081177,\n        \"min\": 0.25,\n        \"max\": 80000.0,\n        \"num_unique_values\": 8,\n        \"samples\": [\n          0.28,\n          4.0,\n          2.1\n        ],\n        \"semantic_type\": \"\",\n        \"description\": \"\"\n      }\n    }\n  ]\n}"
            }
          },
          "metadata": {},
          "execution_count": 145
        }
      ]
    },
    {
      "cell_type": "code",
      "source": [
        "#data types of columns\n",
        "\n",
        "data_train.dtypes\n"
      ],
      "metadata": {
        "colab": {
          "base_uri": "https://localhost:8080/"
        },
        "id": "2wX6PQWA2dYp",
        "outputId": "ef82672d-171f-4ba4-93dc-45f397d5a5e4"
      },
      "execution_count": 146,
      "outputs": [
        {
          "output_type": "execute_result",
          "data": {
            "text/plain": [
              "Total Mass                             float64\n",
              "Painted Body Colour                    float64\n",
              "Painted Gloss Black                    float64\n",
              "Grained plastic                        float64\n",
              "Job 1 Date                               int64\n",
              "Country of production                   object\n",
              "Vehicle Volume                           int64\n",
              "Number of parts within construction      int64\n",
              "Total Cost                             float64\n",
              "Total Cost_1                           float64\n",
              "dtype: object"
            ]
          },
          "metadata": {},
          "execution_count": 146
        }
      ]
    },
    {
      "cell_type": "code",
      "source": [
        "# if total cost is null then convert to euro in total cost1  to pound and fill\n",
        "\n",
        "import numpy as np\n",
        "\n",
        "# Check if total_cost is null\n",
        "is_null = data_train['Total Cost'].isnull()\n",
        "\n",
        "# Convert euro to pound for null values\n",
        "data_train.loc[is_null, 'Total Cost'] = data_train.loc[is_null, 'Total Cost_1'] * 0.85\n",
        "\n",
        "# Drop the total_cost1 column\n",
        "data_train.drop('Total Cost_1', axis=1, inplace=True)\n",
        "\n",
        "# Print the first five rows of the updated data_train\n",
        "print(data_train.to_string())\n"
      ],
      "metadata": {
        "colab": {
          "base_uri": "https://localhost:8080/"
        },
        "id": "KbR_wjwcJvGp",
        "outputId": "8bd62bd8-06c5-4040-99c9-f65774b3c613"
      },
      "execution_count": 147,
      "outputs": [
        {
          "output_type": "stream",
          "name": "stdout",
          "text": [
            "   Total Mass  Painted Body Colour  Painted Gloss Black  Grained plastic  Job 1 Date Country of production  Vehicle Volume   Number of parts within construction  Total Cost\n",
            "0       0.840               0.0000                0.170             0.00        2026                    UK            30000                                    2     20.1500\n",
            "1       1.600               0.0000                0.170             0.00        2027                    UK            80000                                    2     26.7000\n",
            "2       2.100               0.1350                0.115             0.00        2027                    UK            35000                                    4     38.3500\n",
            "3       1.640               0.2800                0.000             0.00        2017                   SVK            70000                                    2     19.9410\n",
            "4       1.640               0.0000                0.000             0.28        2017                   SVK            70000                                    2      9.1460\n",
            "5       1.546               0.0000                0.250             0.00        2021                    UK            70000                                    2     19.1000\n",
            "6       1.350               0.1365                0.059             0.00        2016                   SVK            40000                                    3     17.8755\n",
            "7       1.260               0.2100                0.050             0.00        2020                    UK            40000                                    3     32.2100\n",
            "8       1.300               0.2700                0.060             0.00        2016                    UK            50000                                    3     22.8100\n"
          ]
        },
        {
          "output_type": "stream",
          "name": "stderr",
          "text": [
            "<ipython-input-147-70f95ad6fff0>:12: SettingWithCopyWarning: \n",
            "A value is trying to be set on a copy of a slice from a DataFrame\n",
            "\n",
            "See the caveats in the documentation: https://pandas.pydata.org/pandas-docs/stable/user_guide/indexing.html#returning-a-view-versus-a-copy\n",
            "  data_train.drop('Total Cost_1', axis=1, inplace=True)\n"
          ]
        }
      ]
    },
    {
      "cell_type": "code",
      "source": [
        "print(data_train['Total Cost'])"
      ],
      "metadata": {
        "colab": {
          "base_uri": "https://localhost:8080/"
        },
        "id": "hKki7FamKZNS",
        "outputId": "4192210d-7c31-4142-8289-a54644d50a90"
      },
      "execution_count": 148,
      "outputs": [
        {
          "output_type": "stream",
          "name": "stdout",
          "text": [
            "0    20.1500\n",
            "1    26.7000\n",
            "2    38.3500\n",
            "3    19.9410\n",
            "4     9.1460\n",
            "5    19.1000\n",
            "6    17.8755\n",
            "7    32.2100\n",
            "8    22.8100\n",
            "Name: Total Cost, dtype: float64\n"
          ]
        }
      ]
    },
    {
      "cell_type": "code",
      "source": [
        "#convert categorical variables into number consistent across train and test\n",
        "\n",
        "# Define a dictionary to map categorical values to numerical values\n",
        "mapping = {\n",
        "    'UK': 0,\n",
        "    'SVK': 1\n",
        "}\n",
        "\n",
        "# Apply the mapping to both data_train and actual_test\n",
        "for df in [data_train, actual_test]:\n",
        "    for column in df.select_dtypes(include='object').columns:\n",
        "        df[column] = df[column].map(mapping)\n",
        "\n",
        "# Check the updated dataframes\n",
        "print(data_train.to_string())\n",
        "print(actual_test.to_string())\n"
      ],
      "metadata": {
        "colab": {
          "base_uri": "https://localhost:8080/"
        },
        "id": "qL1lIN98BKcd",
        "outputId": "ca668a9e-9055-418e-b3a4-016dd33cabc3"
      },
      "execution_count": 149,
      "outputs": [
        {
          "output_type": "stream",
          "name": "stdout",
          "text": [
            "   Total Mass  Painted Body Colour  Painted Gloss Black  Grained plastic  Job 1 Date  Country of production  Vehicle Volume   Number of parts within construction  Total Cost\n",
            "0       0.840               0.0000                0.170             0.00        2026                      0            30000                                    2     20.1500\n",
            "1       1.600               0.0000                0.170             0.00        2027                      0            80000                                    2     26.7000\n",
            "2       2.100               0.1350                0.115             0.00        2027                      0            35000                                    4     38.3500\n",
            "3       1.640               0.2800                0.000             0.00        2017                      1            70000                                    2     19.9410\n",
            "4       1.640               0.0000                0.000             0.28        2017                      1            70000                                    2      9.1460\n",
            "5       1.546               0.0000                0.250             0.00        2021                      0            70000                                    2     19.1000\n",
            "6       1.350               0.1365                0.059             0.00        2016                      1            40000                                    3     17.8755\n",
            "7       1.260               0.2100                0.050             0.00        2020                      0            40000                                    3     32.2100\n",
            "8       1.300               0.2700                0.060             0.00        2016                      0            50000                                    3     22.8100\n",
            "    Total Mass  Painted Body Colour  Painted Gloss Black  Grained plastic  Job 1 Date  Country of production  Vehicle Volume   Number of parts within construction  Total Cost  Total Cost_1\n",
            "9          1.7                 0.10                  0.1              0.0        2028                      0            40000                                    3         NaN           NaN\n",
            "10         1.5                 0.19                  0.0              0.0        2028                      0            60000                                    2         NaN           NaN\n"
          ]
        },
        {
          "output_type": "stream",
          "name": "stderr",
          "text": [
            "<ipython-input-149-676d6ab10904>:12: SettingWithCopyWarning: \n",
            "A value is trying to be set on a copy of a slice from a DataFrame.\n",
            "Try using .loc[row_indexer,col_indexer] = value instead\n",
            "\n",
            "See the caveats in the documentation: https://pandas.pydata.org/pandas-docs/stable/user_guide/indexing.html#returning-a-view-versus-a-copy\n",
            "  df[column] = df[column].map(mapping)\n",
            "<ipython-input-149-676d6ab10904>:12: SettingWithCopyWarning: \n",
            "A value is trying to be set on a copy of a slice from a DataFrame.\n",
            "Try using .loc[row_indexer,col_indexer] = value instead\n",
            "\n",
            "See the caveats in the documentation: https://pandas.pydata.org/pandas-docs/stable/user_guide/indexing.html#returning-a-view-versus-a-copy\n",
            "  df[column] = df[column].map(mapping)\n"
          ]
        }
      ]
    },
    {
      "cell_type": "code",
      "source": [
        "#  drop 2 columns\n",
        "\n",
        "actual_test.drop(['Total Cost','Total Cost_1'], axis=1, inplace=True)\n",
        "print(actual_test.to_string())\n"
      ],
      "metadata": {
        "colab": {
          "base_uri": "https://localhost:8080/"
        },
        "id": "Oec-tRtAuwiQ",
        "outputId": "8821cebd-44b5-4bc7-99df-093cbc8ef1ed"
      },
      "execution_count": 150,
      "outputs": [
        {
          "output_type": "stream",
          "name": "stdout",
          "text": [
            "    Total Mass  Painted Body Colour  Painted Gloss Black  Grained plastic  Job 1 Date  Country of production  Vehicle Volume   Number of parts within construction\n",
            "9          1.7                 0.10                  0.1              0.0        2028                      0            40000                                    3\n",
            "10         1.5                 0.19                  0.0              0.0        2028                      0            60000                                    2\n"
          ]
        },
        {
          "output_type": "stream",
          "name": "stderr",
          "text": [
            "<ipython-input-150-e490a233ba24>:3: SettingWithCopyWarning: \n",
            "A value is trying to be set on a copy of a slice from a DataFrame\n",
            "\n",
            "See the caveats in the documentation: https://pandas.pydata.org/pandas-docs/stable/user_guide/indexing.html#returning-a-view-versus-a-copy\n",
            "  actual_test.drop(['Total Cost','Total Cost_1'], axis=1, inplace=True)\n"
          ]
        }
      ]
    },
    {
      "cell_type": "code",
      "source": [
        "import matplotlib.pyplot as plt\n",
        "import seaborn as sns\n",
        "sns.heatmap(data_train.corr(), annot=True)\n",
        "plt.show()"
      ],
      "metadata": {
        "colab": {
          "base_uri": "https://localhost:8080/",
          "height": 672
        },
        "id": "75mCarDu7Gzh",
        "outputId": "301a0ad3-6658-4759-fdf4-02901cb35bef"
      },
      "execution_count": 151,
      "outputs": [
        {
          "output_type": "display_data",
          "data": {
            "text/plain": [
              "<Figure size 640x480 with 2 Axes>"
            ],
            "image/png": "[encoded data removed]"
          },
          "metadata": {}
        }
      ]
    },
    {
      "cell_type": "code",
      "source": [
        "# prompt: coorelation value with total cost\n",
        "\n",
        "data_train.corr()['Total Cost'].sort_values(ascending=False)\n"
      ],
      "metadata": {
        "colab": {
          "base_uri": "https://localhost:8080/"
        },
        "id": "QMcL0QOa-KXr",
        "outputId": "9980067c-8a6b-40e4-9c81-a27078b57b87"
      },
      "execution_count": 153,
      "outputs": [
        {
          "output_type": "execute_result",
          "data": {
            "text/plain": [
              "Total Cost                             1.000000\n",
              "Number of parts within construction    0.704120\n",
              "Job 1 Date                             0.570521\n",
              "Total Mass                             0.315915\n",
              "Painted Body Colour                    0.303791\n",
              "Painted Gloss Black                    0.197238\n",
              "Vehicle Volume                        -0.404427\n",
              "Grained plastic                       -0.604042\n",
              "Country of production                 -0.637280\n",
              "Name: Total Cost, dtype: float64"
            ]
          },
          "metadata": {},
          "execution_count": 153
        }
      ]
    },
    {
      "cell_type": "code",
      "source": [
        "# Define features and target\n",
        "features = data_train.drop(columns=['Total Cost'])\n",
        "target = data_train['Total Cost']"
      ],
      "metadata": {
        "id": "iOWLuvGUOaKl"
      },
      "execution_count": 154,
      "outputs": []
    },
    {
      "cell_type": "code",
      "source": [
        "print(features.to_string())"
      ],
      "metadata": {
        "colab": {
          "base_uri": "https://localhost:8080/"
        },
        "id": "l4o1IK_cOmPS",
        "outputId": "8483cbda-a13c-4742-f57d-57affe27d4cb"
      },
      "execution_count": 156,
      "outputs": [
        {
          "output_type": "stream",
          "name": "stdout",
          "text": [
            "   Total Mass  Painted Body Colour  Painted Gloss Black  Grained plastic  Job 1 Date  Country of production  Vehicle Volume   Number of parts within construction\n",
            "0       0.840               0.0000                0.170             0.00        2026                      0            30000                                    2\n",
            "1       1.600               0.0000                0.170             0.00        2027                      0            80000                                    2\n",
            "2       2.100               0.1350                0.115             0.00        2027                      0            35000                                    4\n",
            "3       1.640               0.2800                0.000             0.00        2017                      1            70000                                    2\n",
            "4       1.640               0.0000                0.000             0.28        2017                      1            70000                                    2\n",
            "5       1.546               0.0000                0.250             0.00        2021                      0            70000                                    2\n",
            "6       1.350               0.1365                0.059             0.00        2016                      1            40000                                    3\n",
            "7       1.260               0.2100                0.050             0.00        2020                      0            40000                                    3\n",
            "8       1.300               0.2700                0.060             0.00        2016                      0            50000                                    3\n"
          ]
        }
      ]
    },
    {
      "cell_type": "code",
      "source": [
        "print(target)"
      ],
      "metadata": {
        "colab": {
          "base_uri": "https://localhost:8080/"
        },
        "id": "N2OIFIYpOrsF",
        "outputId": "649dbb40-3321-4304-de8b-a05b5acc3ab5"
      },
      "execution_count": 73,
      "outputs": [
        {
          "output_type": "stream",
          "name": "stdout",
          "text": [
            "0    20.1500\n",
            "1    26.7000\n",
            "2    38.3500\n",
            "3    19.9410\n",
            "4     9.1460\n",
            "5    19.1000\n",
            "6    17.8755\n",
            "7    32.2100\n",
            "8    22.8100\n",
            "Name: Total Cost, dtype: float64\n"
          ]
        }
      ]
    },
    {
      "cell_type": "code",
      "source": [
        "from sklearn.model_selection import train_test_split\n",
        "# Split data into training and testing sets\n",
        "X_train, X_test, y_train, y_test = train_test_split(features, target, test_size=0.1, random_state=30)\n",
        ""
      ],
      "metadata": {
        "id": "SMEgPxZkO4f4"
      },
      "execution_count": 74,
      "outputs": []
    },
    {
      "cell_type": "code",
      "source": [
        "print(X_train)"
      ],
      "metadata": {
        "colab": {
          "base_uri": "https://localhost:8080/"
        },
        "id": "-WJS9qxjPK9z",
        "outputId": "aa556097-22c5-4818-ade4-fa8aee752624"
      },
      "execution_count": 75,
      "outputs": [
        {
          "output_type": "stream",
          "name": "stdout",
          "text": [
            "   Total Mass  Painted Body Colour  Painted Gloss Black  Grained plastic  \\\n",
            "1       1.600               0.0000                0.170             0.00   \n",
            "2       2.100               0.1350                0.115             0.00   \n",
            "0       0.840               0.0000                0.170             0.00   \n",
            "4       1.640               0.0000                0.000             0.28   \n",
            "6       1.350               0.1365                0.059             0.00   \n",
            "7       1.260               0.2100                0.050             0.00   \n",
            "8       1.300               0.2700                0.060             0.00   \n",
            "5       1.546               0.0000                0.250             0.00   \n",
            "\n",
            "   Job 1 Date  Country of production  Vehicle Volume   \\\n",
            "1        2027                      0            80000   \n",
            "2        2027                      0            35000   \n",
            "0        2026                      0            30000   \n",
            "4        2017                      1            70000   \n",
            "6        2016                      1            40000   \n",
            "7        2020                      0            40000   \n",
            "8        2016                      0            50000   \n",
            "5        2021                      0            70000   \n",
            "\n",
            "   Number of parts within construction  \n",
            "1                                    2  \n",
            "2                                    4  \n",
            "0                                    2  \n",
            "4                                    2  \n",
            "6                                    3  \n",
            "7                                    3  \n",
            "8                                    3  \n",
            "5                                    2  \n"
          ]
        }
      ]
    },
    {
      "cell_type": "code",
      "source": [
        "print(X_test)"
      ],
      "metadata": {
        "colab": {
          "base_uri": "https://localhost:8080/"
        },
        "id": "TrqhhCco8GXs",
        "outputId": "253f1d8b-fdd0-42a1-8046-10e9cc2893c4"
      },
      "execution_count": 76,
      "outputs": [
        {
          "output_type": "stream",
          "name": "stdout",
          "text": [
            "   Total Mass  Painted Body Colour  Painted Gloss Black  Grained plastic  \\\n",
            "3        1.64                 0.28                  0.0              0.0   \n",
            "\n",
            "   Job 1 Date  Country of production  Vehicle Volume   \\\n",
            "3        2017                      1            70000   \n",
            "\n",
            "   Number of parts within construction  \n",
            "3                                    2  \n"
          ]
        }
      ]
    },
    {
      "cell_type": "code",
      "source": [
        "# prompt: improtance of varibales to predict total cost\n",
        "\n",
        "importances = random_forest_regressor.feature_importances_\n",
        "\n",
        "# Sort importances in descending order\n",
        "sorted_importances = sorted(zip(importances, features.columns), reverse=True)\n",
        "\n",
        "# Print the features and their importances\n",
        "for importance, feature in sorted_importances:\n",
        "    print(f\"{feature}: {importance:.4f}\")\n"
      ],
      "metadata": {
        "colab": {
          "base_uri": "https://localhost:8080/"
        },
        "id": "l8QXDB7sAhMH",
        "outputId": "9f94f061-9f4e-41f6-973d-c9567f3d8e0d"
      },
      "execution_count": 88,
      "outputs": [
        {
          "output_type": "stream",
          "name": "stdout",
          "text": [
            "Total Mass: 0.2567\n",
            "Painted Gloss Black: 0.1549\n",
            "Job 1 Date: 0.1331\n",
            "Number of parts within construction: 0.1151\n",
            "Vehicle Volume : 0.1077\n",
            "Painted Body Colour: 0.1050\n",
            "Country of production: 0.0753\n",
            "Grained plastic: 0.0523\n"
          ]
        }
      ]
    },
    {
      "cell_type": "code",
      "source": [
        "# Evaluate several ml models by training on training set and testing on testing set\n",
        "def evaluate(X_train, X_test, y_train, y_test):\n",
        "    # Names of models\n",
        "    model_name_list = ['Linear Regression', 'KNeighbors Regression','Bayesian Ridge Regression','Random Forest Regressor']\n",
        "    #model_name_list = ['KNeighbors Regression']\n",
        "\n",
        "    # Instantiate the models\n",
        "    model1 = LinearRegression()\n",
        "    model2 = KNeighborsRegressor(5)\n",
        "    model3 = BayesianRidge()\n",
        "    model4 = RandomForestRegressor()\n",
        "\n",
        "\n",
        "    # Dataframe for results\n",
        "    results = pd.DataFrame(columns=['mae', 'rmse'], index = model_name_list)\n",
        "\n",
        "    # Train and predict with each model\n",
        "    for i, model in enumerate([model1, model2, model3, model4]):\n",
        "    #for i, model in enumerate([ model2]):\n",
        "        model.fit(X_train, y_train)\n",
        "        predictions = model.predict(X_test)\n",
        "\n",
        "\n",
        "        # Metrics\n",
        "        mae = np.mean(abs(predictions - y_test))\n",
        "        #rmse = np.sqrt(np.mean((predictions - y_test) ** 2))\n",
        "        rmse = mean_squared_error(y_test, predictions, squared=False)\n",
        "\n",
        "\n",
        "        # Insert results into the dataframe\n",
        "        model_name = model_name_list[i]\n",
        "        results.loc[model_name, :] = [mae, rmse]\n",
        "\n",
        "\n",
        "    return results"
      ],
      "metadata": {
        "id": "65tnNLJFFeVY"
      },
      "execution_count": 129,
      "outputs": []
    },
    {
      "cell_type": "code",
      "source": [
        "from sklearn.metrics import r2_score, mean_squared_error\n",
        "from sklearn.linear_model import BayesianRidge,LinearRegression\n",
        "from sklearn.neighbors import KNeighborsRegressor\n",
        "results = evaluate(X_train, X_test, y_train, y_test)"
      ],
      "metadata": {
        "id": "8OnV6BakGCZs"
      },
      "execution_count": 160,
      "outputs": []
    },
    {
      "cell_type": "code",
      "source": [
        "results"
      ],
      "metadata": {
        "colab": {
          "base_uri": "https://localhost:8080/",
          "height": 175
        },
        "id": "ozgtVU5zGT_w",
        "outputId": "418f4929-11ef-44a3-e817-3a936f53c4e5"
      },
      "execution_count": 161,
      "outputs": [
        {
          "output_type": "execute_result",
          "data": {
            "text/plain": [
              "                                 mae       rmse\n",
              "Linear Regression          32.911749  32.911749\n",
              "KNeighbors Regression         0.8147     0.8147\n",
              "Bayesian Ridge Regression   0.038709   0.038709\n",
              "Random Forest Regressor     1.430095   1.430095"
            ],
            "text/html": [
              "\n",
              "  <div id=\"df-5e67212f-40b6-4676-a92e-ed14d3e036bc\" class=\"colab-df-container\">\n",
              "    <div>\n",
              "<style scoped>\n",
              "    .dataframe tbody tr th:only-of-type {\n",
              "        vertical-align: middle;\n",
              "    }\n",
              "\n",
              "    .dataframe tbody tr th {\n",
              "        vertical-align: top;\n",
              "    }\n",
              "\n",
              "    .dataframe thead th {\n",
              "        text-align: right;\n",
              "    }\n",
              "</style>\n",
              "<table border=\"1\" class=\"dataframe\">\n",
              "  <thead>\n",
              "    <tr style=\"text-align: right;\">\n",
              "      <th></th>\n",
              "      <th>mae</th>\n",
              "      <th>rmse</th>\n",
              "    </tr>\n",
              "  </thead>\n",
              "  <tbody>\n",
              "    <tr>\n",
              "      <th>Linear Regression</th>\n",
              "      <td>32.911749</td>\n",
              "      <td>32.911749</td>\n",
              "    </tr>\n",
              "    <tr>\n",
              "      <th>KNeighbors Regression</th>\n",
              "      <td>0.8147</td>\n",
              "      <td>0.8147</td>\n",
              "    </tr>\n",
              "    <tr>\n",
              "      <th>Bayesian Ridge Regression</th>\n",
              "      <td>0.038709</td>\n",
              "      <td>0.038709</td>\n",
              "    </tr>\n",
              "    <tr>\n",
              "      <th>Random Forest Regressor</th>\n",
              "      <td>1.430095</td>\n",
              "      <td>1.430095</td>\n",
              "    </tr>\n",
              "  </tbody>\n",
              "</table>\n",
              "</div>\n",
              "    <div class=\"colab-df-buttons\">\n",
              "\n",
              "  <div class=\"colab-df-container\">\n",
              "    <button class=\"colab-df-convert\" onclick=\"convertToInteractive('df-5e67212f-40b6-4676-a92e-ed14d3e036bc')\"\n",
              "            title=\"Convert this dataframe to an interactive table.\"\n",
              "            style=\"display:none;\">\n",
              "\n",
              "  <svg xmlns=\"http://www.w3.org/2000/svg\" height=\"24px\" viewBox=\"0 -960 960 960\">\n",
              "    <path d=\"M120-120v-720h720v720H120Zm60-500h600v-160H180v160Zm220 220h160v-160H400v160Zm0 220h160v-160H400v160ZM180-400h160v-160H180v160Zm440 0h160v-160H620v160ZM180-180h160v-160H180v160Zm440 0h160v-160H620v160Z\"/>\n",
              "  </svg>\n",
              "    </button>\n",
              "\n",
              "  <style>\n",
              "    .colab-df-container {\n",
              "      display:flex;\n",
              "      gap: 12px;\n",
              "    }\n",
              "\n",
              "    .colab-df-convert {\n",
              "      background-color: #E8F0FE;\n",
              "      border: none;\n",
              "      border-radius: 50%;\n",
              "      cursor: pointer;\n",
              "      display: none;\n",
              "      fill: #1967D2;\n",
              "      height: 32px;\n",
              "      padding: 0 0 0 0;\n",
              "      width: 32px;\n",
              "    }\n",
              "\n",
              "    .colab-df-convert:hover {\n",
              "      background-color: #E2EBFA;\n",
              "      box-shadow: 0px 1px 2px rgba(60, 64, 67, 0.3), 0px 1px 3px 1px rgba(60, 64, 67, 0.15);\n",
              "      fill: #174EA6;\n",
              "    }\n",
              "\n",
              "    .colab-df-buttons div {\n",
              "      margin-bottom: 4px;\n",
              "    }\n",
              "\n",
              "    [theme=dark] .colab-df-convert {\n",
              "      background-color: #3B4455;\n",
              "      fill: #D2E3FC;\n",
              "    }\n",
              "\n",
              "    [theme=dark] .colab-df-convert:hover {\n",
              "      background-color: #434B5C;\n",
              "      box-shadow: 0px 1px 3px 1px rgba(0, 0, 0, 0.15);\n",
              "      filter: drop-shadow(0px 1px 2px rgba(0, 0, 0, 0.3));\n",
              "      fill: #FFFFFF;\n",
              "    }\n",
              "  </style>\n",
              "\n",
              "    <script>\n",
              "      const buttonEl =\n",
              "        document.querySelector('#df-5e67212f-40b6-4676-a92e-ed14d3e036bc button.colab-df-convert');\n",
              "      buttonEl.style.display =\n",
              "        google.colab.kernel.accessAllowed ? 'block' : 'none';\n",
              "\n",
              "      async function convertToInteractive(key) {\n",
              "        const element = document.querySelector('#df-5e67212f-40b6-4676-a92e-ed14d3e036bc');\n",
              "        const dataTable =\n",
              "          await google.colab.kernel.invokeFunction('convertToInteractive',\n",
              "                                                    [key], {});\n",
              "        if (!dataTable) return;\n",
              "\n",
              "        const docLinkHtml = 'Like what you see? Visit the ' +\n",
              "          '<a target=\"_blank\" href=https://colab.research.google.com/notebooks/data_table.ipynb>data table notebook</a>'\n",
              "          + ' to learn more about interactive tables.';\n",
              "        element.innerHTML = '';\n",
              "        dataTable['output_type'] = 'display_data';\n",
              "        await google.colab.output.renderOutput(dataTable, element);\n",
              "        const docLink = document.createElement('div');\n",
              "        docLink.innerHTML = docLinkHtml;\n",
              "        element.appendChild(docLink);\n",
              "      }\n",
              "    </script>\n",
              "  </div>\n",
              "\n",
              "\n",
              "<div id=\"df-05b72023-a772-4709-a5f4-a5c12a7619cd\">\n",
              "  <button class=\"colab-df-quickchart\" onclick=\"quickchart('df-05b72023-a772-4709-a5f4-a5c12a7619cd')\"\n",
              "            title=\"Suggest charts\"\n",
              "            style=\"display:none;\">\n",
              "\n",
              "<svg xmlns=\"http://www.w3.org/2000/svg\" height=\"24px\"viewBox=\"0 0 24 24\"\n",
              "     width=\"24px\">\n",
              "    <g>\n",
              "        <path d=\"M19 3H5c-1.1 0-2 .9-2 2v14c0 1.1.9 2 2 2h14c1.1 0 2-.9 2-2V5c0-1.1-.9-2-2-2zM9 17H7v-7h2v7zm4 0h-2V7h2v10zm4 0h-2v-4h2v4z\"/>\n",
              "    </g>\n",
              "</svg>\n",
              "  </button>\n",
              "\n",
              "<style>\n",
              "  .colab-df-quickchart {\n",
              "      --bg-color: #E8F0FE;\n",
              "      --fill-color: #1967D2;\n",
              "      --hover-bg-color: #E2EBFA;\n",
              "      --hover-fill-color: #174EA6;\n",
              "      --disabled-fill-color: #AAA;\n",
              "      --disabled-bg-color: #DDD;\n",
              "  }\n",
              "\n",
              "  [theme=dark] .colab-df-quickchart {\n",
              "      --bg-color: #3B4455;\n",
              "      --fill-color: #D2E3FC;\n",
              "      --hover-bg-color: #434B5C;\n",
              "      --hover-fill-color: #FFFFFF;\n",
              "      --disabled-bg-color: #3B4455;\n",
              "      --disabled-fill-color: #666;\n",
              "  }\n",
              "\n",
              "  .colab-df-quickchart {\n",
              "    background-color: var(--bg-color);\n",
              "    border: none;\n",
              "    border-radius: 50%;\n",
              "    cursor: pointer;\n",
              "    display: none;\n",
              "    fill: var(--fill-color);\n",
              "    height: 32px;\n",
              "    padding: 0;\n",
              "    width: 32px;\n",
              "  }\n",
              "\n",
              "  .colab-df-quickchart:hover {\n",
              "    background-color: var(--hover-bg-color);\n",
              "    box-shadow: 0 1px 2px rgba(60, 64, 67, 0.3), 0 1px 3px 1px rgba(60, 64, 67, 0.15);\n",
              "    fill: var(--button-hover-fill-color);\n",
              "  }\n",
              "\n",
              "  .colab-df-quickchart-complete:disabled,\n",
              "  .colab-df-quickchart-complete:disabled:hover {\n",
              "    background-color: var(--disabled-bg-color);\n",
              "    fill: var(--disabled-fill-color);\n",
              "    box-shadow: none;\n",
              "  }\n",
              "\n",
              "  .colab-df-spinner {\n",
              "    border: 2px solid var(--fill-color);\n",
              "    border-color: transparent;\n",
              "    border-bottom-color: var(--fill-color);\n",
              "    animation:\n",
              "      spin 1s steps(1) infinite;\n",
              "  }\n",
              "\n",
              "  @keyframes spin {\n",
              "    0% {\n",
              "      border-color: transparent;\n",
              "      border-bottom-color: var(--fill-color);\n",
              "      border-left-color: var(--fill-color);\n",
              "    }\n",
              "    20% {\n",
              "      border-color: transparent;\n",
              "      border-left-color: var(--fill-color);\n",
              "      border-top-color: var(--fill-color);\n",
              "    }\n",
              "    30% {\n",
              "      border-color: transparent;\n",
              "      border-left-color: var(--fill-color);\n",
              "      border-top-color: var(--fill-color);\n",
              "      border-right-color: var(--fill-color);\n",
              "    }\n",
              "    40% {\n",
              "      border-color: transparent;\n",
              "      border-right-color: var(--fill-color);\n",
              "      border-top-color: var(--fill-color);\n",
              "    }\n",
              "    60% {\n",
              "      border-color: transparent;\n",
              "      border-right-color: var(--fill-color);\n",
              "    }\n",
              "    80% {\n",
              "      border-color: transparent;\n",
              "      border-right-color: var(--fill-color);\n",
              "      border-bottom-color: var(--fill-color);\n",
              "    }\n",
              "    90% {\n",
              "      border-color: transparent;\n",
              "      border-bottom-color: var(--fill-color);\n",
              "    }\n",
              "  }\n",
              "</style>\n",
              "\n",
              "  <script>\n",
              "    async function quickchart(key) {\n",
              "      const quickchartButtonEl =\n",
              "        document.querySelector('#' + key + ' button');\n",
              "      quickchartButtonEl.disabled = true;  // To prevent multiple clicks.\n",
              "      quickchartButtonEl.classList.add('colab-df-spinner');\n",
              "      try {\n",
              "        const charts = await google.colab.kernel.invokeFunction(\n",
              "            'suggestCharts', [key], {});\n",
              "      } catch (error) {\n",
              "        console.error('Error during call to suggestCharts:', error);\n",
              "      }\n",
              "      quickchartButtonEl.classList.remove('colab-df-spinner');\n",
              "      quickchartButtonEl.classList.add('colab-df-quickchart-complete');\n",
              "    }\n",
              "    (() => {\n",
              "      let quickchartButtonEl =\n",
              "        document.querySelector('#df-05b72023-a772-4709-a5f4-a5c12a7619cd button');\n",
              "      quickchartButtonEl.style.display =\n",
              "        google.colab.kernel.accessAllowed ? 'block' : 'none';\n",
              "    })();\n",
              "  </script>\n",
              "</div>\n",
              "\n",
              "  <div id=\"id_34ad4f8b-5c92-4896-9ec5-30ef3f731fd0\">\n",
              "    <style>\n",
              "      .colab-df-generate {\n",
              "        background-color: #E8F0FE;\n",
              "        border: none;\n",
              "        border-radius: 50%;\n",
              "        cursor: pointer;\n",
              "        display: none;\n",
              "        fill: #1967D2;\n",
              "        height: 32px;\n",
              "        padding: 0 0 0 0;\n",
              "        width: 32px;\n",
              "      }\n",
              "\n",
              "      .colab-df-generate:hover {\n",
              "        background-color: #E2EBFA;\n",
              "        box-shadow: 0px 1px 2px rgba(60, 64, 67, 0.3), 0px 1px 3px 1px rgba(60, 64, 67, 0.15);\n",
              "        fill: #174EA6;\n",
              "      }\n",
              "\n",
              "      [theme=dark] .colab-df-generate {\n",
              "        background-color: #3B4455;\n",
              "        fill: #D2E3FC;\n",
              "      }\n",
              "\n",
              "      [theme=dark] .colab-df-generate:hover {\n",
              "        background-color: #434B5C;\n",
              "        box-shadow: 0px 1px 3px 1px rgba(0, 0, 0, 0.15);\n",
              "        filter: drop-shadow(0px 1px 2px rgba(0, 0, 0, 0.3));\n",
              "        fill: #FFFFFF;\n",
              "      }\n",
              "    </style>\n",
              "    <button class=\"colab-df-generate\" onclick=\"generateWithVariable('results')\"\n",
              "            title=\"Generate code using this dataframe.\"\n",
              "            style=\"display:none;\">\n",
              "\n",
              "  <svg xmlns=\"http://www.w3.org/2000/svg\" height=\"24px\"viewBox=\"0 0 24 24\"\n",
              "       width=\"24px\">\n",
              "    <path d=\"M7,19H8.4L18.45,9,17,7.55,7,17.6ZM5,21V16.75L18.45,3.32a2,2,0,0,1,2.83,0l1.4,1.43a1.91,1.91,0,0,1,.58,1.4,1.91,1.91,0,0,1-.58,1.4L9.25,21ZM18.45,9,17,7.55Zm-12,3A5.31,5.31,0,0,0,4.9,8.1,5.31,5.31,0,0,0,1,6.5,5.31,5.31,0,0,0,4.9,4.9,5.31,5.31,0,0,0,6.5,1,5.31,5.31,0,0,0,8.1,4.9,5.31,5.31,0,0,0,12,6.5,5.46,5.46,0,0,0,6.5,12Z\"/>\n",
              "  </svg>\n",
              "    </button>\n",
              "    <script>\n",
              "      (() => {\n",
              "      const buttonEl =\n",
              "        document.querySelector('#id_34ad4f8b-5c92-4896-9ec5-30ef3f731fd0 button.colab-df-generate');\n",
              "      buttonEl.style.display =\n",
              "        google.colab.kernel.accessAllowed ? 'block' : 'none';\n",
              "\n",
              "      buttonEl.onclick = () => {\n",
              "        google.colab.notebook.generateWithVariable('results');\n",
              "      }\n",
              "      })();\n",
              "    </script>\n",
              "  </div>\n",
              "\n",
              "    </div>\n",
              "  </div>\n"
            ],
            "application/vnd.google.colaboratory.intrinsic+json": {
              "type": "dataframe",
              "variable_name": "results",
              "summary": "{\n  \"name\": \"results\",\n  \"rows\": 4,\n  \"fields\": [\n    {\n      \"column\": \"mae\",\n      \"properties\": {\n        \"dtype\": \"date\",\n        \"min\": 0.038708592188061886,\n        \"max\": 32.91174875183404,\n        \"num_unique_values\": 4,\n        \"samples\": [\n          0.8146999999999984,\n          1.430095000000005,\n          32.91174875183404\n        ],\n        \"semantic_type\": \"\",\n        \"description\": \"\"\n      }\n    },\n    {\n      \"column\": \"rmse\",\n      \"properties\": {\n        \"dtype\": \"date\",\n        \"min\": 0.038708592188061886,\n        \"max\": 32.91174875183404,\n        \"num_unique_values\": 4,\n        \"samples\": [\n          0.8146999999999984,\n          1.430095000000005,\n          32.91174875183404\n        ],\n        \"semantic_type\": \"\",\n        \"description\": \"\"\n      }\n    }\n  ]\n}"
            }
          },
          "metadata": {},
          "execution_count": 161
        }
      ]
    },
    {
      "cell_type": "code",
      "source": [],
      "metadata": {
        "id": "W-Bpt9n2OX17"
      },
      "execution_count": null,
      "outputs": []
    },
    {
      "cell_type": "code",
      "source": [
        "model = BayesianRidge()\n",
        "model.fit(X_train, y_train)\n",
        "print(\"Predicted value\", model.predict(X_test))\n",
        "print(\"Actual value\", y_test)"
      ],
      "metadata": {
        "colab": {
          "base_uri": "https://localhost:8080/"
        },
        "id": "Q-lK14t1I9cv",
        "outputId": "684909a0-39b4-4374-a863-435d46cc7f43"
      },
      "execution_count": 158,
      "outputs": [
        {
          "output_type": "stream",
          "name": "stdout",
          "text": [
            "Predicted value [19.97970859]\n",
            "Actual value 3    19.941\n",
            "Name: Total Cost, dtype: float64\n"
          ]
        }
      ]
    },
    {
      "cell_type": "code",
      "source": [
        "print(actual_test.to_string())\n",
        "model.predict(actual_test)"
      ],
      "metadata": {
        "colab": {
          "base_uri": "https://localhost:8080/"
        },
        "id": "5hHvqxxOLft9",
        "outputId": "5afb8518-0130-442d-ceed-409cf833f0ef"
      },
      "execution_count": 162,
      "outputs": [
        {
          "output_type": "stream",
          "name": "stdout",
          "text": [
            "    Total Mass  Painted Body Colour  Painted Gloss Black  Grained plastic  Job 1 Date  Country of production  Vehicle Volume   Number of parts within construction\n",
            "9          1.7                 0.10                  0.1              0.0        2028                      0            40000                                    3\n",
            "10         1.5                 0.19                  0.0              0.0        2028                      0            60000                                    2\n"
          ]
        },
        {
          "output_type": "execute_result",
          "data": {
            "text/plain": [
              "array([25.46327932, 21.80760157])"
            ]
          },
          "metadata": {},
          "execution_count": 162
        }
      ]
    }
  ]
}